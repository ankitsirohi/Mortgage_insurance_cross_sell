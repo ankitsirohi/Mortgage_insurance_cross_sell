{
 "cells": [
  {
   "cell_type": "code",
   "execution_count": 1,
   "source": [
    "import pandas as pd\r\n",
    "import numpy as np\r\n",
    "import matplotlib.pyplot as plt\r\n",
    "import seaborn as sns\r\n",
    "%matplotlib inline"
   ],
   "outputs": [],
   "metadata": {}
  },
  {
   "cell_type": "code",
   "execution_count": 2,
   "source": [
    "df=pd.read_excel(\"Mortgage Insurance Cross Sell - Dataset.xls\")\r\n",
    "print(df.shape)\r\n",
    "df.info()"
   ],
   "outputs": [
    {
     "output_type": "stream",
     "name": "stdout",
     "text": [
      "(16383, 59)\n",
      "<class 'pandas.core.frame.DataFrame'>\n",
      "RangeIndex: 16383 entries, 0 to 16382\n",
      "Data columns (total 59 columns):\n",
      " #   Column                            Non-Null Count  Dtype  \n",
      "---  ------                            --------------  -----  \n",
      " 0   Ref                               16383 non-null  int64  \n",
      " 1   Credit_Score                      16383 non-null  int64  \n",
      " 2   Final_Grade                       16383 non-null  object \n",
      " 3   Term                              16383 non-null  int64  \n",
      " 4   Net_Advance                       16383 non-null  float64\n",
      " 5   APR                               16383 non-null  float64\n",
      " 6   Loan_Type                         16383 non-null  object \n",
      " 7   Mosaic                            16383 non-null  int64  \n",
      " 8   Mosaic_Class                      16383 non-null  int64  \n",
      " 9   Time_at_Address                   16383 non-null  int64  \n",
      " 10  Residential_Status                16383 non-null  object \n",
      " 11  Telephone_Indicator               16383 non-null  object \n",
      " 12  Number_of_Dependants              16383 non-null  int64  \n",
      " 13  Marital_Status                    16383 non-null  object \n",
      " 14  Gender                            16383 non-null  object \n",
      " 15  Time_in_Employment                16383 non-null  int64  \n",
      " 16  Employment_Status                 16383 non-null  object \n",
      " 17  Full_Part_Time_Empl_Ind           16383 non-null  object \n",
      " 18  Perm_Temp_Empl_Ind                16383 non-null  object \n",
      " 19  Income_Range                      16383 non-null  int64  \n",
      " 20  Current_Account                   16383 non-null  object \n",
      " 21  ACCESS_Card                       16383 non-null  object \n",
      " 22  VISA_Card                         16383 non-null  object \n",
      " 23  American_Express                  16383 non-null  object \n",
      " 24  Diners_Card                       16383 non-null  object \n",
      " 25  Cheque_Guarantee                  16383 non-null  object \n",
      " 26  Other_Credit_Store_Card           16383 non-null  object \n",
      " 27  Time_with_Bank                    16383 non-null  int64  \n",
      " 28  Value_of_Property                 16383 non-null  int64  \n",
      " 29  Outstanding_Mortgage_Bal          16383 non-null  int64  \n",
      " 30  Total_Outstanding_Balances        16383 non-null  int64  \n",
      " 31  Bureau_Data___Monthly_Other_Co_R  16383 non-null  int64  \n",
      " 32  Worst_History_CT                  16383 non-null  int64  \n",
      " 33  Payment_Method                    16383 non-null  object \n",
      " 34  Age                               16383 non-null  int64  \n",
      " 35  Total_outstanding_balance__mortg  16383 non-null  int64  \n",
      " 36  Total___Public_Info___CCJ____ban  16383 non-null  int64  \n",
      " 37  Total_value__Public_Info___CCJ__  16383 non-null  int64  \n",
      " 38  Time_since_most_recent_Public_In  16383 non-null  int64  \n",
      " 39  Total_value__CAIS_8_9s            16383 non-null  int64  \n",
      " 40  Worst_status_L6m                  16383 non-null  int64  \n",
      " 41  Worst_CUrrent_Status              16383 non-null  int64  \n",
      " 42  __of_status_3_s_L6m               16383 non-null  int64  \n",
      " 43  Searches___Total___L6m            16383 non-null  int64  \n",
      " 44  Years_on_ER_for_SP                16383 non-null  int64  \n",
      " 45  Bankruptcy_Detected__SP_          16383 non-null  object \n",
      " 46  Total___outstanding_CCJ_s         16383 non-null  int64  \n",
      " 47  Total_outstanding_balance___excl  16383 non-null  int64  \n",
      " 48  Total___of_accounts               16383 non-null  int64  \n",
      " 49  CIFAS_detected                    16383 non-null  object \n",
      " 50  Time_since_most_recent_outstandi  16383 non-null  int64  \n",
      " 51  Insurance_Description             9461 non-null   object \n",
      " 52  PPI                               16383 non-null  int64  \n",
      " 53  code                              9405 non-null   float64\n",
      " 54  prdt_desc                         9345 non-null   object \n",
      " 55  category                          9461 non-null   object \n",
      " 56  PPI_SINGLE                        16383 non-null  int64  \n",
      " 57  PPI_JOINT                         16383 non-null  int64  \n",
      " 58  PPI_LCI                           16383 non-null  int64  \n",
      "dtypes: float64(3), int64(34), object(22)\n",
      "memory usage: 7.4+ MB\n"
     ]
    }
   ],
   "metadata": {}
  },
  {
   "cell_type": "markdown",
   "source": [
    "target distributions"
   ],
   "metadata": {}
  },
  {
   "cell_type": "code",
   "execution_count": 3,
   "source": [
    "pd.crosstab(df.category,df.Ref).sum().sum()"
   ],
   "outputs": [
    {
     "output_type": "execute_result",
     "data": {
      "text/plain": [
       "9461"
      ]
     },
     "metadata": {},
     "execution_count": 3
    }
   ],
   "metadata": {}
  },
  {
   "cell_type": "code",
   "execution_count": 4,
   "source": [
    "df.category.value_counts(dropna=False)"
   ],
   "outputs": [
    {
     "output_type": "execute_result",
     "data": {
      "text/plain": [
       "NaN       6922\n",
       "Single    6264\n",
       "LCI       1972\n",
       "JOINT      647\n",
       "Joint      578\n",
       "Name: category, dtype: int64"
      ]
     },
     "metadata": {},
     "execution_count": 4
    }
   ],
   "metadata": {}
  },
  {
   "cell_type": "code",
   "execution_count": 5,
   "source": [
    "print('target JOINT\\n',df.PPI_JOINT.value_counts(dropna=False,normalize=True))\r\n",
    "print('target LCI\\n',df.PPI_LCI.value_counts(dropna=False,normalize=True))\r\n",
    "print('target SINGLE\\n',df.PPI_SINGLE.value_counts(dropna=False,normalize=True))"
   ],
   "outputs": [
    {
     "output_type": "stream",
     "name": "stdout",
     "text": [
      "target JOINT\n",
      " 0    0.925227\n",
      "1    0.074773\n",
      "Name: PPI_JOINT, dtype: float64\n",
      "target LCI\n",
      " 0    0.879631\n",
      "1    0.120369\n",
      "Name: PPI_LCI, dtype: float64\n",
      "target SINGLE\n",
      " 0    0.617652\n",
      "1    0.382348\n",
      "Name: PPI_SINGLE, dtype: float64\n"
     ]
    }
   ],
   "metadata": {}
  },
  {
   "cell_type": "markdown",
   "source": [
    "distribution of the features"
   ],
   "metadata": {}
  },
  {
   "cell_type": "code",
   "execution_count": 6,
   "source": [
    "df.describe(include='all').transpose().to_csv('EDA.csv')"
   ],
   "outputs": [],
   "metadata": {}
  },
  {
   "cell_type": "code",
   "execution_count": 7,
   "source": [
    "df=df.loc[:,['Loan_Type','Telephone_Indicator','Gender','ACCESS_Card','VISA_Card','Cheque_Guarantee','Other_Credit_Store_Card','Residential_Status',\r\n",
    "'Marital_Status','Employment_Status','Final_Grade','Ref','Credit_Score','Term','Net_Advance','APR','Mosaic','Mosaic_Class','Time_at_Address',\r\n",
    "'Number_of_Dependants','Time_in_Employment','Income_Range','Time_with_Bank','Value_of_Property','Outstanding_Mortgage_Bal','Total_Outstanding_Balances',\r\n",
    "'Bureau_Data___Monthly_Other_Co_R','Worst_History_CT','Age','Total_outstanding_balance__mortg','Time_since_most_recent_Public_In',\r\n",
    "'Total_value__CAIS_8_9s','Worst_status_L6m','Searches___Total___L6m','Years_on_ER_for_SP','Total_outstanding_balance___excl',\r\n",
    "'Total___of_accounts','Time_since_most_recent_outstandi','PPI','PPI_SINGLE','PPI_JOINT','PPI_LCI']]"
   ],
   "outputs": [],
   "metadata": {}
  },
  {
   "cell_type": "code",
   "execution_count": null,
   "source": [
    "# def EDA(df,target,feature):\r\n",
    "#     a=pd.DataFrame(pd.crosstab(df[feature],df[target],dropna=False)).reset_index()\r\n",
    "#     a['feature']=feature\r\n",
    "#     a.rename(columns={0:'nonevent',1:'events',feature:'val'},inplace=True)\r\n",
    "#     a['%distribution']=(a.nonevent+a.events)/df.shape[0]*100\r\n",
    "#     a['%target']=a.events/(a.nonevent+a.events)   *100 \r\n",
    "#     a.drop(columns=['events','nonevent'],inplace=True)\r\n",
    "    \r\n",
    "#     return a\r\n",
    "# a=EDA(df,'PPI_SINGLE','Marital_Status')\r\n",
    "# a"
   ],
   "outputs": [],
   "metadata": {}
  },
  {
   "cell_type": "markdown",
   "source": [
    "# spliting the data for project"
   ],
   "metadata": {}
  },
  {
   "cell_type": "code",
   "execution_count": 8,
   "source": [
    "# keeping PPI==0 for holdout\r\n",
    "hold=df.loc[df.PPI==0,:]\r\n",
    "hold.to_csv('hold_data.csv',index=False)"
   ],
   "outputs": [],
   "metadata": {}
  },
  {
   "cell_type": "code",
   "execution_count": 9,
   "source": [
    "\r\n",
    "df=df.loc[df.PPI==1,:]\r\n",
    "df.to_csv('test_train_data.csv',index=False)"
   ],
   "outputs": [],
   "metadata": {}
  },
  {
   "cell_type": "code",
   "execution_count": null,
   "source": [
    "# plt.figure(figsize=(11,7))\r\n",
    "# sns.countplot(x='Final_Grade',hue='PPI',data=df,palette='Set1')\r\n",
    "# df.Residential_Status.value_counts(dropna=False)\r\n",
    "# df.groupby(by='Final_Grade').agg({'Credit_Score':['min','max']})\r\n",
    "# # pd.crosstab(df.Mosaic_Class,df.Mosaic)\r\n",
    "# df.groupby(by='Mosaic_Class').agg({'Mosaic':['min','max']})\r\n",
    "# df.set_index('Ref',inplace=True)\r\n",
    "# df.describe(include='all')\r\n",
    "# df.PPI.value_counts(dropna=False)\r\n",
    "# df.category=df.category.apply(lambda x: x.upper())\r\n",
    "\r\n",
    "# df.category.fillna('NULL',inplace=True)\r\n",
    "# pd.crosstab(df.PPI,df.category,normalize=True)*100\r\n",
    "# df.prdt_desc.fillna('NULL',inplace=True)\r\n",
    "# pd.crosstab([df.Insurance_Description,df.PPI],1)\r\n",
    "# df.Bureau_Data___Monthly_Other_Co_R.value_counts(dropna=False)\r\n",
    "# df.Bureau_Data___Monthly_Other_Co_R.describe()\r\n",
    "# import matplotlib.pyplot as plt\r\n",
    "\r\n",
    "# # plt.bar(df.Employment_Status,df.PPI)\r\n",
    "# df.groupby(by=['Employment_Status','PPI']).agg({'PPI':'count'})\r\n"
   ],
   "outputs": [],
   "metadata": {}
  }
 ],
 "metadata": {
  "orig_nbformat": 4,
  "language_info": {
   "name": "python",
   "version": "3.9.6",
   "mimetype": "text/x-python",
   "codemirror_mode": {
    "name": "ipython",
    "version": 3
   },
   "pygments_lexer": "ipython3",
   "nbconvert_exporter": "python",
   "file_extension": ".py"
  },
  "kernelspec": {
   "name": "python3",
   "display_name": "Python 3.9.6 64-bit"
  },
  "interpreter": {
   "hash": "8da01e5a71448ea74f54d88afa8911010d1d12e23bc7e103d40d5def4a09152c"
  }
 },
 "nbformat": 4,
 "nbformat_minor": 2
}