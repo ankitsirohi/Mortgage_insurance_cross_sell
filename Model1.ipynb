{
 "cells": [
  {
   "cell_type": "markdown",
   "source": [
    "# Building a Model on PPI SINGLE"
   ],
   "metadata": {}
  },
  {
   "cell_type": "code",
   "execution_count": 1,
   "source": [
    "import pandas as pd\r\n",
    "import numpy as np\r\n",
    "import matplotlib.pyplot as plt\r\n",
    "import seaborn as sns\r\n",
    "%matplotlib inline"
   ],
   "outputs": [],
   "metadata": {}
  },
  {
   "cell_type": "code",
   "execution_count": 2,
   "source": [
    "df = pd.read_csv('test_train_data.csv')\r\n",
    "print(df.shape)"
   ],
   "outputs": [
    {
     "output_type": "stream",
     "name": "stdout",
     "text": [
      "(9461, 42)\n"
     ]
    }
   ],
   "metadata": {}
  },
  {
   "cell_type": "markdown",
   "source": [
    "# Exploratory Data Analysis"
   ],
   "metadata": {}
  },
  {
   "cell_type": "code",
   "execution_count": 3,
   "source": [
    "plt.figure(figsize=(10,6))\r\n",
    "df[df['PPI_SINGLE']==1]['Credit_Score'].hist(alpha=0.5,color='blue',bins=30,label='PPI_SINGLE=1')\r\n",
    "df[df['PPI_SINGLE']==0]['Credit_Score'].hist(alpha=0.5,color='red',bins=30,label='PPI_SINGLE=0')\r\n",
    "plt.legend()\r\n",
    "plt.xlabel('Credit_Score')"
   ],
   "outputs": [
    {
     "output_type": "execute_result",
     "data": {
      "text/plain": [
       "Text(0.5, 0, 'Credit_Score')"
      ]
     },
     "metadata": {},
     "execution_count": 3
    },
    {
     "output_type": "display_data",
     "data": {
      "image/png": "[encoded data removed]",
      "text/plain": [
       "<Figure size 720x432 with 1 Axes>"
      ]
     },
     "metadata": {
      "needs_background": "light"
     }
    }
   ],
   "metadata": {}
  },
  {
   "cell_type": "code",
   "execution_count": 4,
   "source": [
    "plt.figure(figsize=(11,7))\r\n",
    "sns.countplot(x='Income_Range',hue='PPI_SINGLE',data=df,palette='Set1')"
   ],
   "outputs": [
    {
     "output_type": "execute_result",
     "data": {
      "text/plain": [
       "<AxesSubplot:xlabel='Income_Range', ylabel='count'>"
      ]
     },
     "metadata": {},
     "execution_count": 4
    },
    {
     "output_type": "display_data",
     "data": {
      "image/png": "[encoded data removed]",
      "text/plain": [
       "<Figure size 792x504 with 1 Axes>"
      ]
     },
     "metadata": {
      "needs_background": "light"
     }
    }
   ],
   "metadata": {}
  },
  {
   "cell_type": "markdown",
   "source": [
    "# Setting up the Data"
   ],
   "metadata": {}
  },
  {
   "cell_type": "code",
   "execution_count": 5,
   "source": [
    "print(df.shape)\r\n",
    "df.set_index('Ref',inplace=True)\r\n",
    "print(df.shape)\r\n",
    "# drop unwanted columns\r\n",
    "df.drop(columns=['PPI_LCI','PPI_JOINT','PPI'],inplace=True)\r\n",
    "print(df.shape)\r\n",
    "# df.head()"
   ],
   "outputs": [
    {
     "output_type": "stream",
     "name": "stdout",
     "text": [
      "(9461, 42)\n",
      "(9461, 41)\n",
      "(9461, 38)\n"
     ]
    }
   ],
   "metadata": {}
  },
  {
   "cell_type": "markdown",
   "source": [
    "# getting the information value for each feature\r\n",
    "## Information Value\tVariable Predictiveness\r\n",
    "    >Less than 0.02\tNot useful for prediction<br>\r\n",
    "    >0.02 to 0.1\tWeak predictive Power<br>\r\n",
    "    >0.1 to 0.3\tMedium predictive Power<br>\r\n",
    "    >0.3 to 0.5\tStrong predictive Power<br>\r\n",
    "    >0.5\tSuspicious Predictive Power<br>"
   ],
   "metadata": {}
  },
  {
   "cell_type": "code",
   "execution_count": 6,
   "source": [
    "def calculate_woe_iv(dataset, feature, target):\r\n",
    "    lst = []\r\n",
    "    for i in range(dataset[feature].nunique()):\r\n",
    "        val = list(dataset[feature].unique())[i]\r\n",
    "        lst.append({\r\n",
    "            'Value': val,\r\n",
    "            'All': dataset[dataset[feature] == val].count()[feature],\r\n",
    "            'Good': dataset[(dataset[feature] == val) & (dataset[target] == 0)].count()[feature],\r\n",
    "            'Bad': dataset[(dataset[feature] == val) & (dataset[target] == 1)].count()[feature]\r\n",
    "        })\r\n",
    "        \r\n",
    "    dset = pd.DataFrame(lst)\r\n",
    "    dset['Distr_Good'] = dset['Good'] / dset['Good'].sum()\r\n",
    "    dset['Distr_Bad'] = dset['Bad'] / dset['Bad'].sum()\r\n",
    "    dset['WoE'] = np.log(dset['Distr_Good'] / dset['Distr_Bad'])\r\n",
    "    dset = dset.replace({'WoE': {np.inf: 0, -np.inf: 0}})\r\n",
    "    dset['IV'] = (dset['Distr_Good'] - dset['Distr_Bad']) * dset['WoE']\r\n",
    "    iv = dset['IV'].sum()\r\n",
    "    \r\n",
    "    dset = dset.sort_values(by='WoE')\r\n",
    "    \r\n",
    "    return dset, iv"
   ],
   "outputs": [],
   "metadata": {}
  },
  {
   "cell_type": "code",
   "execution_count": 7,
   "source": [
    "l1=[]\r\n",
    "l2=[]\r\n",
    "for i in df.columns:\r\n",
    "    a=calculate_woe_iv(df,i,'PPI_SINGLE')\r\n",
    "    l1.append(a[1])\r\n",
    "    l2.append(i)\r\n",
    "    \r\n",
    "df_IV=pd.DataFrame()\r\n",
    "df_IV['Feature']=l2\r\n",
    "df_IV['IV']=l1\r\n",
    "df_IV"
   ],
   "outputs": [
    {
     "output_type": "stream",
     "name": "stderr",
     "text": [
      "C:\\Users\\ASUS\\AppData\\Local\\Programs\\Python\\Python39\\lib\\site-packages\\pandas\\core\\arraylike.py:364: RuntimeWarning: divide by zero encountered in log\n",
      "  result = getattr(ufunc, method)(*inputs, **kwargs)\n"
     ]
    },
    {
     "output_type": "execute_result",
     "data": {
      "text/html": [
       "<div>\n",
       "<style scoped>\n",
       "    .dataframe tbody tr th:only-of-type {\n",
       "        vertical-align: middle;\n",
       "    }\n",
       "\n",
       "    .dataframe tbody tr th {\n",
       "        vertical-align: top;\n",
       "    }\n",
       "\n",
       "    .dataframe thead th {\n",
       "        text-align: right;\n",
       "    }\n",
       "</style>\n",
       "<table border=\"1\" class=\"dataframe\">\n",
       "  <thead>\n",
       "    <tr style=\"text-align: right;\">\n",
       "      <th></th>\n",
       "      <th>Feature</th>\n",
       "      <th>IV</th>\n",
       "    </tr>\n",
       "  </thead>\n",
       "  <tbody>\n",
       "    <tr>\n",
       "      <th>0</th>\n",
       "      <td>Loan_Type</td>\n",
       "      <td>7.633630e-03</td>\n",
       "    </tr>\n",
       "    <tr>\n",
       "      <th>1</th>\n",
       "      <td>Telephone_Indicator</td>\n",
       "      <td>2.769882e-03</td>\n",
       "    </tr>\n",
       "    <tr>\n",
       "      <th>2</th>\n",
       "      <td>Gender</td>\n",
       "      <td>3.032531e-03</td>\n",
       "    </tr>\n",
       "    <tr>\n",
       "      <th>3</th>\n",
       "      <td>ACCESS_Card</td>\n",
       "      <td>7.078679e-05</td>\n",
       "    </tr>\n",
       "    <tr>\n",
       "      <th>4</th>\n",
       "      <td>VISA_Card</td>\n",
       "      <td>1.398510e-03</td>\n",
       "    </tr>\n",
       "    <tr>\n",
       "      <th>5</th>\n",
       "      <td>Cheque_Guarantee</td>\n",
       "      <td>8.644659e-05</td>\n",
       "    </tr>\n",
       "    <tr>\n",
       "      <th>6</th>\n",
       "      <td>Other_Credit_Store_Card</td>\n",
       "      <td>9.909678e-07</td>\n",
       "    </tr>\n",
       "    <tr>\n",
       "      <th>7</th>\n",
       "      <td>Residential_Status</td>\n",
       "      <td>8.190698e-02</td>\n",
       "    </tr>\n",
       "    <tr>\n",
       "      <th>8</th>\n",
       "      <td>Marital_Status</td>\n",
       "      <td>9.976341e-02</td>\n",
       "    </tr>\n",
       "    <tr>\n",
       "      <th>9</th>\n",
       "      <td>Employment_Status</td>\n",
       "      <td>2.005934e-01</td>\n",
       "    </tr>\n",
       "    <tr>\n",
       "      <th>10</th>\n",
       "      <td>Final_Grade</td>\n",
       "      <td>2.544794e-02</td>\n",
       "    </tr>\n",
       "    <tr>\n",
       "      <th>11</th>\n",
       "      <td>Credit_Score</td>\n",
       "      <td>1.641335e-01</td>\n",
       "    </tr>\n",
       "    <tr>\n",
       "      <th>12</th>\n",
       "      <td>Term</td>\n",
       "      <td>5.329280e-02</td>\n",
       "    </tr>\n",
       "    <tr>\n",
       "      <th>13</th>\n",
       "      <td>Net_Advance</td>\n",
       "      <td>9.706374e-02</td>\n",
       "    </tr>\n",
       "    <tr>\n",
       "      <th>14</th>\n",
       "      <td>APR</td>\n",
       "      <td>5.720344e-02</td>\n",
       "    </tr>\n",
       "    <tr>\n",
       "      <th>15</th>\n",
       "      <td>Mosaic</td>\n",
       "      <td>3.971348e-02</td>\n",
       "    </tr>\n",
       "    <tr>\n",
       "      <th>16</th>\n",
       "      <td>Mosaic_Class</td>\n",
       "      <td>1.135767e-02</td>\n",
       "    </tr>\n",
       "    <tr>\n",
       "      <th>17</th>\n",
       "      <td>Time_at_Address</td>\n",
       "      <td>1.565992e-01</td>\n",
       "    </tr>\n",
       "    <tr>\n",
       "      <th>18</th>\n",
       "      <td>Number_of_Dependants</td>\n",
       "      <td>5.207532e-03</td>\n",
       "    </tr>\n",
       "    <tr>\n",
       "      <th>19</th>\n",
       "      <td>Time_in_Employment</td>\n",
       "      <td>1.612047e-01</td>\n",
       "    </tr>\n",
       "    <tr>\n",
       "      <th>20</th>\n",
       "      <td>Income_Range</td>\n",
       "      <td>1.115748e-01</td>\n",
       "    </tr>\n",
       "    <tr>\n",
       "      <th>21</th>\n",
       "      <td>Time_with_Bank</td>\n",
       "      <td>1.802837e-01</td>\n",
       "    </tr>\n",
       "    <tr>\n",
       "      <th>22</th>\n",
       "      <td>Value_of_Property</td>\n",
       "      <td>1.608926e-01</td>\n",
       "    </tr>\n",
       "    <tr>\n",
       "      <th>23</th>\n",
       "      <td>Outstanding_Mortgage_Bal</td>\n",
       "      <td>7.869063e-02</td>\n",
       "    </tr>\n",
       "    <tr>\n",
       "      <th>24</th>\n",
       "      <td>Total_Outstanding_Balances</td>\n",
       "      <td>2.953668e-02</td>\n",
       "    </tr>\n",
       "    <tr>\n",
       "      <th>25</th>\n",
       "      <td>Bureau_Data___Monthly_Other_Co_R</td>\n",
       "      <td>3.806734e-01</td>\n",
       "    </tr>\n",
       "    <tr>\n",
       "      <th>26</th>\n",
       "      <td>Worst_History_CT</td>\n",
       "      <td>7.403783e-03</td>\n",
       "    </tr>\n",
       "    <tr>\n",
       "      <th>27</th>\n",
       "      <td>Age</td>\n",
       "      <td>1.147080e-01</td>\n",
       "    </tr>\n",
       "    <tr>\n",
       "      <th>28</th>\n",
       "      <td>Total_outstanding_balance__mortg</td>\n",
       "      <td>1.382804e-01</td>\n",
       "    </tr>\n",
       "    <tr>\n",
       "      <th>29</th>\n",
       "      <td>Time_since_most_recent_Public_In</td>\n",
       "      <td>3.482565e-02</td>\n",
       "    </tr>\n",
       "    <tr>\n",
       "      <th>30</th>\n",
       "      <td>Total_value__CAIS_8_9s</td>\n",
       "      <td>7.413178e-02</td>\n",
       "    </tr>\n",
       "    <tr>\n",
       "      <th>31</th>\n",
       "      <td>Worst_status_L6m</td>\n",
       "      <td>8.028146e-03</td>\n",
       "    </tr>\n",
       "    <tr>\n",
       "      <th>32</th>\n",
       "      <td>Searches___Total___L6m</td>\n",
       "      <td>2.219444e-02</td>\n",
       "    </tr>\n",
       "    <tr>\n",
       "      <th>33</th>\n",
       "      <td>Years_on_ER_for_SP</td>\n",
       "      <td>1.808452e-02</td>\n",
       "    </tr>\n",
       "    <tr>\n",
       "      <th>34</th>\n",
       "      <td>Total_outstanding_balance___excl</td>\n",
       "      <td>2.129948e-01</td>\n",
       "    </tr>\n",
       "    <tr>\n",
       "      <th>35</th>\n",
       "      <td>Total___of_accounts</td>\n",
       "      <td>4.688316e-02</td>\n",
       "    </tr>\n",
       "    <tr>\n",
       "      <th>36</th>\n",
       "      <td>Time_since_most_recent_outstandi</td>\n",
       "      <td>3.224689e-02</td>\n",
       "    </tr>\n",
       "    <tr>\n",
       "      <th>37</th>\n",
       "      <td>PPI_SINGLE</td>\n",
       "      <td>0.000000e+00</td>\n",
       "    </tr>\n",
       "  </tbody>\n",
       "</table>\n",
       "</div>"
      ],
      "text/plain": [
       "                             Feature            IV\n",
       "0                          Loan_Type  7.633630e-03\n",
       "1                Telephone_Indicator  2.769882e-03\n",
       "2                             Gender  3.032531e-03\n",
       "3                        ACCESS_Card  7.078679e-05\n",
       "4                          VISA_Card  1.398510e-03\n",
       "5                   Cheque_Guarantee  8.644659e-05\n",
       "6            Other_Credit_Store_Card  9.909678e-07\n",
       "7                 Residential_Status  8.190698e-02\n",
       "8                     Marital_Status  9.976341e-02\n",
       "9                  Employment_Status  2.005934e-01\n",
       "10                       Final_Grade  2.544794e-02\n",
       "11                      Credit_Score  1.641335e-01\n",
       "12                              Term  5.329280e-02\n",
       "13                       Net_Advance  9.706374e-02\n",
       "14                               APR  5.720344e-02\n",
       "15                            Mosaic  3.971348e-02\n",
       "16                      Mosaic_Class  1.135767e-02\n",
       "17                   Time_at_Address  1.565992e-01\n",
       "18              Number_of_Dependants  5.207532e-03\n",
       "19                Time_in_Employment  1.612047e-01\n",
       "20                      Income_Range  1.115748e-01\n",
       "21                    Time_with_Bank  1.802837e-01\n",
       "22                 Value_of_Property  1.608926e-01\n",
       "23          Outstanding_Mortgage_Bal  7.869063e-02\n",
       "24        Total_Outstanding_Balances  2.953668e-02\n",
       "25  Bureau_Data___Monthly_Other_Co_R  3.806734e-01\n",
       "26                  Worst_History_CT  7.403783e-03\n",
       "27                               Age  1.147080e-01\n",
       "28  Total_outstanding_balance__mortg  1.382804e-01\n",
       "29  Time_since_most_recent_Public_In  3.482565e-02\n",
       "30            Total_value__CAIS_8_9s  7.413178e-02\n",
       "31                  Worst_status_L6m  8.028146e-03\n",
       "32            Searches___Total___L6m  2.219444e-02\n",
       "33                Years_on_ER_for_SP  1.808452e-02\n",
       "34  Total_outstanding_balance___excl  2.129948e-01\n",
       "35               Total___of_accounts  4.688316e-02\n",
       "36  Time_since_most_recent_outstandi  3.224689e-02\n",
       "37                        PPI_SINGLE  0.000000e+00"
      ]
     },
     "metadata": {},
     "execution_count": 7
    }
   ],
   "metadata": {}
  },
  {
   "cell_type": "code",
   "execution_count": null,
   "source": [
    "f_select1=list(df_IV.loc[df_IV['IV']>0.02,:]['Feature'])\r\n",
    "f_select1.append('PPI_SINGLE')\r\n",
    "df=df.loc[:,f_select1]\r\n",
    "print(df.shape)\r\n",
    "print(df.info())\r\n",
    "df.head()"
   ],
   "outputs": [],
   "metadata": {}
  },
  {
   "cell_type": "code",
   "execution_count": null,
   "source": [
    "target='PPI_SINGLE'\r\n",
    "cat_vars=['Residential_Status','Marital_Status','Employment_Status','Final_Grade','Mosaic_Class']\r\n",
    "num_vars=['Credit_Score','Term','Net_Advance','APR','Mosaic','Time_at_Address','Time_in_Employment','Income_Range','Time_with_Bank',\r\n",
    "'Value_of_Property','Outstanding_Mortgage_Bal','Bureau_Data___Monthly_Other_Co_R','Age',\r\n",
    "'Total_outstanding_balance__mortg','Time_since_most_recent_Public_In','Total_value__CAIS_8_9s','Total_outstanding_balance___excl',\r\n",
    "'Total___of_accounts','Time_since_most_recent_outstandi']"
   ],
   "outputs": [],
   "metadata": {}
  },
  {
   "cell_type": "code",
   "execution_count": null,
   "source": [
    "df.Mosaic_Class=df.Mosaic_Class.apply(lambda x: str(x))"
   ],
   "outputs": [],
   "metadata": {}
  },
  {
   "cell_type": "code",
   "execution_count": null,
   "source": [
    "df_num=df.loc[:,num_vars]\r\n",
    "df_cat=df.loc[:,cat_vars]"
   ],
   "outputs": [],
   "metadata": {}
  },
  {
   "cell_type": "code",
   "execution_count": null,
   "source": [
    "from sklearn import preprocessing\r\n",
    "\r\n",
    "scaler = preprocessing.MinMaxScaler()\r\n",
    "names = num_vars\r\n",
    "d = scaler.fit_transform(df_num)\r\n",
    "scaled_df = pd.DataFrame(d, columns=names)\r\n",
    "\r\n",
    "print(scaled_df.shape)\r\n",
    "scaled_df.head()"
   ],
   "outputs": [],
   "metadata": {}
  },
  {
   "cell_type": "code",
   "execution_count": null,
   "source": [
    "# df_cat.Mosaic_Class=df_cat.Mosaic_Class.apply(lambda x: str(x))\r\n",
    "print(df_cat.shape)\r\n",
    "y = pd.get_dummies(df_cat,dtype='int')\r\n",
    "print(y.shape)\r\n",
    "y=y.reset_index()\r\n",
    "y.head()"
   ],
   "outputs": [],
   "metadata": {}
  },
  {
   "cell_type": "code",
   "execution_count": null,
   "source": [
    "df_final=pd.concat([y,scaled_df], axis=1)"
   ],
   "outputs": [],
   "metadata": {}
  },
  {
   "cell_type": "code",
   "execution_count": null,
   "source": [
    "\r\n",
    "df_final.set_index('Ref',inplace=True)\r\n",
    "df_final.head()"
   ],
   "outputs": [],
   "metadata": {}
  },
  {
   "cell_type": "code",
   "execution_count": null,
   "source": [
    "from sklearn.model_selection import train_test_split\r\n",
    "X = df_final\r\n",
    "y = df[target]\r\n",
    "X_train, X_test, y_train, y_test = train_test_split(X, y, test_size=0.30, random_state=101)"
   ],
   "outputs": [],
   "metadata": {}
  },
  {
   "cell_type": "code",
   "execution_count": null,
   "source": [
    "from sklearn.ensemble import RandomForestClassifier"
   ],
   "outputs": [],
   "metadata": {}
  },
  {
   "cell_type": "code",
   "execution_count": null,
   "source": [
    "rfc = RandomForestClassifier(n_estimators=8000)"
   ],
   "outputs": [],
   "metadata": {}
  },
  {
   "cell_type": "code",
   "execution_count": null,
   "source": [
    "rfc.fit(X_train,y_train)"
   ],
   "outputs": [],
   "metadata": {}
  },
  {
   "cell_type": "code",
   "execution_count": null,
   "source": [
    "predictions = rfc.predict(X_test)"
   ],
   "outputs": [],
   "metadata": {}
  },
  {
   "cell_type": "code",
   "execution_count": null,
   "source": [
    "from sklearn.metrics import classification_report,confusion_matrix"
   ],
   "outputs": [],
   "metadata": {}
  },
  {
   "cell_type": "code",
   "execution_count": null,
   "source": [
    "print(classification_report(y_test,predictions))"
   ],
   "outputs": [],
   "metadata": {}
  },
  {
   "cell_type": "code",
   "execution_count": null,
   "source": [
    "print(confusion_matrix(y_test,predictions))"
   ],
   "outputs": [],
   "metadata": {}
  }
 ],
 "metadata": {
  "orig_nbformat": 4,
  "language_info": {
   "name": "python",
   "version": "3.9.6",
   "mimetype": "text/x-python",
   "codemirror_mode": {
    "name": "ipython",
    "version": 3
   },
   "pygments_lexer": "ipython3",
   "nbconvert_exporter": "python",
   "file_extension": ".py"
  },
  "kernelspec": {
   "name": "python3",
   "display_name": "Python 3.9.6 64-bit"
  },
  "interpreter": {
   "hash": "8da01e5a71448ea74f54d88afa8911010d1d12e23bc7e103d40d5def4a09152c"
  }
 },
 "nbformat": 4,
 "nbformat_minor": 2
}